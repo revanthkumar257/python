{
 "cells": [
  {
   "cell_type": "code",
   "execution_count": 1,
   "id": "7dbf4922",
   "metadata": {},
   "outputs": [
    {
     "name": "stdout",
     "output_type": "stream",
     "text": [
      "i love python\n"
     ]
    }
   ],
   "source": [
    "print ('i love {}'.format('python'))"
   ]
  },
  {
   "cell_type": "code",
   "execution_count": 8,
   "id": "8c96c2df",
   "metadata": {},
   "outputs": [
    {
     "name": "stdout",
     "output_type": "stream",
     "text": [
      "fruit    | quantiti\n",
      "appale   | 34      \n",
      "orange   | 2.34    \n"
     ]
    }
   ],
   "source": [
    "print('{0:8} | {1:8}'.format('fruit','quantiti'))\n",
    "print('{0:8} | {1:<8}'.format('appale',34))\n",
    "print('{0:8} | {1:<8.2f}'.format('orange',2.344567))\n",
    "\n",
    "#leftcontainment"
   ]
  },
  {
   "cell_type": "code",
   "execution_count": 9,
   "id": "42bb214d",
   "metadata": {},
   "outputs": [],
   "source": [
    "#variables are names that stores values\n",
    "#str returns string object"
   ]
  },
  {
   "cell_type": "code",
   "execution_count": 13,
   "id": "b6bde7ae",
   "metadata": {},
   "outputs": [
    {
     "name": "stdout",
     "output_type": "stream",
     "text": [
      "bunny\n",
      " _____ \n"
     ]
    }
   ],
   "source": [
    "a1 = input()\n",
    "a1length = len(a1)\n",
    "\n",
    "\n",
    "print(' {} '.format('_' * a1length))"
   ]
  },
  {
   "cell_type": "code",
   "execution_count": 17,
   "id": "7b1dfb8a",
   "metadata": {},
   "outputs": [
    {
     "data": {
      "text/plain": [
       "2"
      ]
     },
     "execution_count": 17,
     "metadata": {},
     "output_type": "execute_result"
    }
   ],
   "source": [
    "3 % 2\n",
    "8//4"
   ]
  },
  {
   "cell_type": "code",
   "execution_count": 22,
   "id": "d2a9e854",
   "metadata": {},
   "outputs": [
    {
     "name": "stdout",
     "output_type": "stream",
     "text": [
      "5\n"
     ]
    }
   ],
   "source": [
    "a = '3'\n",
    "a1 = int(a) + 2\n",
    "print(a1)"
   ]
  },
  {
   "cell_type": "code",
   "execution_count": 26,
   "id": "84d3235f",
   "metadata": {},
   "outputs": [
    {
     "data": {
      "text/plain": [
       "False"
      ]
     },
     "execution_count": 26,
     "metadata": {},
     "output_type": "execute_result"
    }
   ],
   "source": [
    "1 == 2"
   ]
  },
  {
   "cell_type": "code",
   "execution_count": 38,
   "id": "3770a527",
   "metadata": {},
   "outputs": [
    {
     "name": "stdout",
     "output_type": "stream",
     "text": [
      "hi bunny yadav\n"
     ]
    }
   ],
   "source": [
    "#function\n",
    "def say_hi(first,last) :\n",
    "    \n",
    "    print('hi {} {}'.format(first,last))\n",
    "\n",
    "say_hi('bunny','yadav')\n",
    "    \n"
   ]
  },
  {
   "cell_type": "code",
   "execution_count": 40,
   "id": "6064b199",
   "metadata": {},
   "outputs": [
    {
     "name": "stdout",
     "output_type": "stream",
     "text": [
      "hi bunny\n"
     ]
    }
   ],
   "source": [
    "def say_hi(name):\n",
    "    print('hi {}'.format(name))\n",
    "say_hi('bunny')"
   ]
  },
  {
   "cell_type": "code",
   "execution_count": 43,
   "id": "bacdd4ae",
   "metadata": {},
   "outputs": [
    {
     "name": "stdout",
     "output_type": "stream",
     "text": [
      "udd\n"
     ]
    }
   ],
   "source": [
    "def  odd_or_even(number):\n",
    "    if number % 2 == 0:\n",
    "        return 'Even'\n",
    "    else :\n",
    "        return 'udd'\n",
    "odd_or_even_string = odd_or_even(7)\n",
    "print(odd_or_even_string)\n",
    "\n"
   ]
  },
  {
   "cell_type": "code",
   "execution_count": 1,
   "id": "1309cf47",
   "metadata": {},
   "outputs": [
    {
     "name": "stdout",
     "output_type": "stream",
     "text": [
      "What is your namebunny\n",
      "Your name is bunny\n"
     ]
    }
   ],
   "source": [
    "def get_name():\n",
    "    name = input('What is your name')\n",
    "    return name\n",
    "def say_name(name):\n",
    "    print('Your name is {}'.format(name))\n",
    "def get_and_say_name():\n",
    "    name = get_name()\n",
    "    say_name(name)\n",
    "get_and_say_name()"
   ]
  },
  {
   "cell_type": "code",
   "execution_count": 2,
   "id": "a97ad71b",
   "metadata": {},
   "outputs": [
    {
     "name": "stdout",
     "output_type": "stream",
     "text": [
      "['bow', 'cow', 'dog', 'fox', 'nox']\n",
      "['bow', 'cow', 'dog', 'fox', 'nox', 'jox', 'ox']\n",
      "['bun', 'bow', 'cow', 'dog', 'fox', 'nox', 'jox', 'ox']\n"
     ]
    }
   ],
   "source": [
    "animals =['bow','cow', 'dog']\n",
    "animals.extend(['fox','nox'])\n",
    "print(animals)\n",
    "\n",
    "more_animals =['jox','ox']\n",
    "animals.extend(more_animals)\n",
    "print(animals)\n",
    "\n",
    "animals.insert(0,'bun')\n",
    "print(animals)"
   ]
  },
  {
   "cell_type": "code",
   "execution_count": 7,
   "id": "d091e438",
   "metadata": {},
   "outputs": [
    {
     "name": "stdout",
     "output_type": "stream",
     "text": [
      "Some animals: ['bear', 'pig', 'cow']\n",
      "first two : ['man', 'bear']\n"
     ]
    }
   ],
   "source": [
    "animals = ['man','bear','pig','cow','buffalo']\n",
    "\n",
    "some_animals = animals[1:4]\n",
    "print('Some animals: {}'.format(some_animals))\n",
    "first_two = animals[0:2]\n",
    "print(\"first two : {}\".format(first_two))"
   ]
  },
  {
   "cell_type": "code",
   "execution_count": 10,
   "id": "87d1bac8",
   "metadata": {},
   "outputs": [
    {
     "name": "stdout",
     "output_type": "stream",
     "text": [
      "1\n"
     ]
    }
   ],
   "source": [
    "animals = ['man','bear','pig','cow','buffalo']\n",
    "\n",
    "bear_index = animals.index('bear')\n",
    "print(bear_index)\n",
    "\n"
   ]
  },
  {
   "cell_type": "code",
   "execution_count": 11,
   "id": "71db94d5",
   "metadata": {},
   "outputs": [
    {
     "ename": "ValueError",
     "evalue": "'cat' is not in list",
     "output_type": "error",
     "traceback": [
      "\u001b[1;31m---------------------------------------------------------------------------\u001b[0m",
      "\u001b[1;31mValueError\u001b[0m                                Traceback (most recent call last)",
      "Input \u001b[1;32mIn [11]\u001b[0m, in \u001b[0;36m<cell line: 4>\u001b[1;34m()\u001b[0m\n\u001b[0;32m      1\u001b[0m animals \u001b[38;5;241m=\u001b[39m [\u001b[38;5;124m'\u001b[39m\u001b[38;5;124mman\u001b[39m\u001b[38;5;124m'\u001b[39m,\u001b[38;5;124m'\u001b[39m\u001b[38;5;124mbear\u001b[39m\u001b[38;5;124m'\u001b[39m,\u001b[38;5;124m'\u001b[39m\u001b[38;5;124mpig\u001b[39m\u001b[38;5;124m'\u001b[39m,\u001b[38;5;124m'\u001b[39m\u001b[38;5;124mcow\u001b[39m\u001b[38;5;124m'\u001b[39m,\u001b[38;5;124m'\u001b[39m\u001b[38;5;124mbuffalo\u001b[39m\u001b[38;5;124m'\u001b[39m]\n\u001b[1;32m----> 4\u001b[0m cat_index \u001b[38;5;241m=\u001b[39m \u001b[43manimals\u001b[49m\u001b[38;5;241;43m.\u001b[39;49m\u001b[43mindex\u001b[49m\u001b[43m(\u001b[49m\u001b[38;5;124;43m'\u001b[39;49m\u001b[38;5;124;43mcat\u001b[39;49m\u001b[38;5;124;43m'\u001b[39;49m\u001b[43m)\u001b[49m\n\u001b[0;32m      5\u001b[0m \u001b[38;5;28mprint\u001b[39m(cat_index)\n",
      "\u001b[1;31mValueError\u001b[0m: 'cat' is not in list"
     ]
    }
   ],
   "source": [
    "animals = ['man','bear','pig','cow','buffalo']\n",
    "\n",
    "\n",
    "cat_index = animals.index('cat')\n",
    "print(cat_index)"
   ]
  },
  {
   "cell_type": "code",
   "execution_count": 12,
   "id": "7ed8e973",
   "metadata": {},
   "outputs": [
    {
     "name": "stdout",
     "output_type": "stream",
     "text": [
      "no cat\n"
     ]
    }
   ],
   "source": [
    "animals = ['man','bear','pig','cow','buffalo']\n",
    "try:\n",
    "    cat_index = animals.index('cat')\n",
    "except:\n",
    "    cat_index = (\"no cat\")\n",
    "print(cat_index)"
   ]
  },
  {
   "cell_type": "code",
   "execution_count": 14,
   "id": "273bf5bf",
   "metadata": {},
   "outputs": [
    {
     "name": "stdout",
     "output_type": "stream",
     "text": [
      "0\n"
     ]
    }
   ],
   "source": [
    "family =['bunny','daddy','amma']\n",
    "try:\n",
    "    bunny_index = family.index('bunny')\n",
    "except:\n",
    "    bunny_index = \"not present\"\n",
    "print(bunny_index)"
   ]
  },
  {
   "cell_type": "code",
   "execution_count": 16,
   "id": "f884e123",
   "metadata": {},
   "outputs": [
    {
     "name": "stdout",
     "output_type": "stream",
     "text": [
      "MAN\n",
      "BEAR\n",
      "PIG\n",
      "COW\n",
      "BUFFALO\n"
     ]
    }
   ],
   "source": [
    "animals = ['man','bear','pig','cow','buffalo']\n",
    "for animal in animals:\n",
    "    print(animal.upper())"
   ]
  },
  {
   "cell_type": "code",
   "execution_count": 23,
   "id": "ff9e682e",
   "metadata": {},
   "outputs": [
    {
     "name": "stdout",
     "output_type": "stream",
     "text": [
      "animals ['man', 'bear', 'pig', 'cow', 'buffalo']\n",
      "animals list : ['bear', 'buffalo', 'cow', 'man', 'pig']\n",
      "animals list : ['bear', 'buffalo', 'cow', 'man', 'pig']\n"
     ]
    }
   ],
   "source": [
    "animals = ['man','bear','pig','cow','buffalo']\n",
    "sorted_animals = sorted(animals)\n",
    "\n",
    "print(\"animals {}\".format(animals))\n",
    "print(\"animals list : {}\".format(sorted_animals))\n",
    "animals.sort()\n",
    "print(\"animals list : {}\".format(animals))"
   ]
  },
  {
   "cell_type": "code",
   "execution_count": 24,
   "id": "25604458",
   "metadata": {},
   "outputs": [
    {
     "name": "stdout",
     "output_type": "stream",
     "text": [
      "0\n",
      "1\n",
      "2\n"
     ]
    }
   ],
   "source": [
    "for number in range(3):\n",
    "    print(number)"
   ]
  },
  {
   "cell_type": "code",
   "execution_count": 25,
   "id": "99ea636a",
   "metadata": {},
   "outputs": [
    {
     "name": "stdout",
     "output_type": "stream",
     "text": [
      "1\n",
      "3\n",
      "5\n",
      "7\n",
      "9\n"
     ]
    }
   ],
   "source": [
    "for number in range(1,10,2):\n",
    "    print(number)"
   ]
  },
  {
   "cell_type": "code",
   "execution_count": 1,
   "id": "87f1e8c3",
   "metadata": {},
   "outputs": [
    {
     "name": "stdout",
     "output_type": "stream",
     "text": [
      "man\n",
      "pig\n",
      "buffalo\n"
     ]
    }
   ],
   "source": [
    "animals = ['man','bear','pig','cow','buffalo']\n",
    "for number in range (0, len(animals), 2):\n",
    "    print(animals[number])\n",
    "    "
   ]
  },
  {
   "cell_type": "code",
   "execution_count": 2,
   "id": "0c875bdb",
   "metadata": {},
   "outputs": [
    {
     "name": "stdout",
     "output_type": "stream",
     "text": [
      "dial 123 to call bunny\n"
     ]
    }
   ],
   "source": [
    "contacts = {'bunny': '123', 'cunny': '456'}\n",
    "\n",
    "bun = contacts['bunny']\n",
    "cun = contacts['cunny']\n",
    "\n",
    "print('dial {} to call bunny'.format(bun))\n",
    "\n"
   ]
  },
  {
   "cell_type": "code",
   "execution_count": 6,
   "id": "6e8394ac",
   "metadata": {},
   "outputs": [
    {
     "name": "stdout",
     "output_type": "stream",
     "text": [
      "phone: 123\n"
     ]
    }
   ],
   "source": [
    "contacts = {'bunny': ['123'], 'cunny': '456'}\n",
    "\n",
    "for number in contacts['bunny']:\n",
    "    print('phone: {}'.format(number))"
   ]
  },
  {
   "cell_type": "code",
   "execution_count": 8,
   "id": "807e1e2a",
   "metadata": {},
   "outputs": [
    {
     "name": "stdout",
     "output_type": "stream",
     "text": [
      "bunny's number\n",
      "123\n"
     ]
    }
   ],
   "source": [
    "contacts = {'bunny': ['123'], 'cunny': '456'}\n",
    "\n",
    "if 'bunny' in contacts.keys():\n",
    "    print(\"bunny's number\")\n",
    "    print(contacts['bunny'][0])"
   ]
  },
  {
   "cell_type": "code",
   "execution_count": 11,
   "id": "eb6c63a4",
   "metadata": {},
   "outputs": [
    {
     "name": "stdout",
     "output_type": "stream",
     "text": [
      "the number for bunny is 123.\n",
      "the number for cunny is 456.\n"
     ]
    }
   ],
   "source": [
    "contacts = {'bunny': '123', 'cunny': '456'}\n",
    "\n",
    "for contact in contacts:\n",
    "    print ('the number for {0} is {1}.'.format(contact,contacts[contact]))"
   ]
  },
  {
   "cell_type": "code",
   "execution_count": 5,
   "id": "b871bcac",
   "metadata": {},
   "outputs": [
    {
     "name": "stdout",
     "output_type": "stream",
     "text": [
      "mon\n",
      "\n",
      "mon\n",
      "tue\n",
      "wed\n",
      "thu\n",
      "fri\n"
     ]
    }
   ],
   "source": [
    "days_of_week  = ('mon','tue','wed','thu','fri')\n",
    "monday = days_of_week[0]\n",
    "print(monday)\n",
    "print()\n",
    "\n",
    "for day in days_of_week:\n",
    "    print(day)"
   ]
  },
  {
   "cell_type": "code",
   "execution_count": 10,
   "id": "6ebff9b9",
   "metadata": {},
   "outputs": [
    {
     "name": "stdout",
     "output_type": "stream",
     "text": [
      "('mon', 'tue', 'wed', 'thu', 'fri')\n"
     ]
    }
   ],
   "source": [
    "days_of_week  = ('mon','tue','wed','thu','fri')\n",
    "print(days_of_week)\n",
    "del(days_of_week)\n"
   ]
  },
  {
   "cell_type": "code",
   "execution_count": 12,
   "id": "49ed5d74",
   "metadata": {},
   "outputs": [
    {
     "name": "stdout",
     "output_type": "stream",
     "text": [
      "weekend tuple is <class 'tuple'>.\n"
     ]
    }
   ],
   "source": [
    "weekend_tuple = ('saturday','sunday')\n",
    "weekend_list = list(weekend_tuple)\n",
    "print('weekend tuple is {}.'.format(type(weekend_tuple)))"
   ]
  },
  {
   "cell_type": "code",
   "execution_count": 17,
   "id": "e0ed999e",
   "metadata": {},
   "outputs": [
    {
     "name": "stdout",
     "output_type": "stream",
     "text": [
      "animals list is <class 'list'>.\n",
      "animals list is <class 'tuple'>.\n"
     ]
    }
   ],
   "source": [
    "animals_list = ['man','bear','pig']\n",
    "animals_tuple = tuple(animals_list)\n",
    "print('animals list is {}.'.format(type(animals_list)))\n",
    "print('animals list is {}.'.format(type(animals_tuple)))"
   ]
  },
  {
   "cell_type": "code",
   "execution_count": 21,
   "id": "fbed0185",
   "metadata": {},
   "outputs": [
    {
     "name": "stdout",
     "output_type": "stream",
     "text": [
      "highest number is: 67.\n",
      "lowest is 4.\n"
     ]
    }
   ],
   "source": [
    "def high_and_low(numbers):\n",
    "    highest = max(numbers)\n",
    "    lowest = min(numbers)\n",
    "    return (highest, lowest)\n",
    "    \n",
    "lottery_numbers = [16,4,12,45,67]\n",
    "(highest , lowest) = high_and_low(lottery_numbers)\n",
    "print(\"highest number is: {}.\".format(highest))\n",
    "print(\"lowest is {}.\".format(lowest))"
   ]
  },
  {
   "cell_type": "code",
   "execution_count": 22,
   "id": "0488e856",
   "metadata": {},
   "outputs": [
    {
     "name": "stdout",
     "output_type": "stream",
     "text": [
      "jay phone no. is 090.\n",
      "car1 phone no. is 987.\n"
     ]
    }
   ],
   "source": [
    "contacts = [('jay','090'),('car1','987')]\n",
    "for(name,phone) in contacts:\n",
    "    print(\"{} phone no. is {}.\".format(name,phone))"
   ]
  },
  {
   "cell_type": "code",
   "execution_count": 4,
   "id": "4de17276",
   "metadata": {},
   "outputs": [
    {
     "ename": "SyntaxError",
     "evalue": "(unicode error) 'unicodeescape' codec can't decode bytes in position 2-3: truncated \\UXXXXXXXX escape (149193673.py, line 1)",
     "output_type": "error",
     "traceback": [
      "\u001b[1;36m  Input \u001b[1;32mIn [4]\u001b[1;36m\u001b[0m\n\u001b[1;33m    host = open(\"C:\\Users\\DELL\\Downloads\\Netflix's Content Delivery Network .txt\")\u001b[0m\n\u001b[1;37m                                                                                 ^\u001b[0m\n\u001b[1;31mSyntaxError\u001b[0m\u001b[1;31m:\u001b[0m (unicode error) 'unicodeescape' codec can't decode bytes in position 2-3: truncated \\UXXXXXXXX escape\n"
     ]
    }
   ],
   "source": [
    "host = open(\"C:\\Users\\DELL\\Downloads\\Netflix's Content Delivery Network .txt\")\n",
    "print(host)"
   ]
  },
  {
   "cell_type": "code",
   "execution_count": 7,
   "id": "e73c896e",
   "metadata": {},
   "outputs": [
    {
     "name": "stdout",
     "output_type": "stream",
     "text": [
      "<built-in function asctime>\n",
      "-19800\n"
     ]
    }
   ],
   "source": [
    "import time\n",
    "print(time.asctime)\n",
    "print(time.timezone)"
   ]
  },
  {
   "cell_type": "code",
   "execution_count": 11,
   "id": "efd6cd41",
   "metadata": {},
   "outputs": [
    {
     "name": "stdout",
     "output_type": "stream",
     "text": [
      "Sun Mar 24 16:31:59 2024\n",
      "Sun Mar 24 16:32:02 2024\n"
     ]
    }
   ],
   "source": [
    "import time\n",
    "from time import asctime , sleep\n",
    "print(asctime())\n",
    "sleep(3)\n",
    "print(asctime())"
   ]
  },
  {
   "cell_type": "code",
   "execution_count": 12,
   "id": "d4602d79",
   "metadata": {},
   "outputs": [
    {
     "name": "stdout",
     "output_type": "stream",
     "text": [
      "C:\\Users\\DELL\n",
      "C:\\Users\\DELL\\anaconda3\\python39.zip\n",
      "C:\\Users\\DELL\\anaconda3\\DLLs\n",
      "C:\\Users\\DELL\\anaconda3\\lib\n",
      "C:\\Users\\DELL\\anaconda3\n",
      "\n",
      "C:\\Users\\DELL\\anaconda3\\lib\\site-packages\n",
      "C:\\Users\\DELL\\anaconda3\\lib\\site-packages\\win32\n",
      "C:\\Users\\DELL\\anaconda3\\lib\\site-packages\\win32\\lib\n",
      "C:\\Users\\DELL\\anaconda3\\lib\\site-packages\\Pythonwin\n"
     ]
    }
   ],
   "source": [
    "import sys\n",
    "for path in sys.path:\n",
    "    print(path)\n"
   ]
  },
  {
   "cell_type": "code",
   "execution_count": 20,
   "id": "42ecae86",
   "metadata": {},
   "outputs": [
    {
     "name": "stdout",
     "output_type": "stream",
     "text": [
      "abc\n"
     ]
    }
   ],
   "source": [
    "import sys\n",
    "file_name = 'C:/Users/DELL/Downloads/test.txt'\n",
    "try:\n",
    "    with open(file_name) as test_file:\n",
    "        for line in test_file:\n",
    "            print(line)\n",
    "except:\n",
    "    print('could not open {}.'.format(file_name))\n",
    "    sys.exit(1)\n",
    "            \n"
   ]
  },
  {
   "cell_type": "code",
   "execution_count": 25,
   "id": "434cc40f",
   "metadata": {},
   "outputs": [
    {
     "name": "stdout",
     "output_type": "stream",
     "text": [
      "nand\n",
      "1\n"
     ]
    }
   ],
   "source": [
    "email = input()\n",
    "vowels  = \"aeiou\"\n",
    "count=0\n",
    "for c in email:\n",
    "    if c in vowels:\n",
    "        count = count + 1\n",
    "    \n",
    "print(count)"
   ]
  },
  {
   "cell_type": "code",
   "execution_count": 26,
   "id": "35948586",
   "metadata": {},
   "outputs": [
    {
     "name": "stdout",
     "output_type": "stream",
     "text": [
      "aba 2\n"
     ]
    }
   ],
   "source": [
    "mainStr = \"abababa\"\n",
    "subStr = \"aba\"\n",
    "res = mainStr.count(subStr)\n",
    "print(subStr,res)"
   ]
  },
  {
   "cell_type": "code",
   "execution_count": 27,
   "id": "7267537d",
   "metadata": {},
   "outputs": [
    {
     "name": "stdout",
     "output_type": "stream",
     "text": [
      "abababa\n",
      "bababa\n",
      "baba\n",
      "ba\n",
      "aba 3\n"
     ]
    }
   ],
   "source": [
    "mainStr = \"abababa\"\n",
    "subStr = \"aba\"\n",
    "\n",
    "try:\n",
    "    count = 0\n",
    "    index = 0\n",
    "    while True:\n",
    "        mainStr = mainStr[index:]\n",
    "        print(mainStr)\n",
    "        index = mainStr.index(subStr)\n",
    "        index = index + 1\n",
    "        count = count + 1\n",
    "except:\n",
    "    print(subStr,count)"
   ]
  },
  {
   "cell_type": "code",
   "execution_count": 29,
   "id": "03101def",
   "metadata": {},
   "outputs": [
    {
     "name": "stdout",
     "output_type": "stream",
     "text": [
      "buny\n",
      "['buny']\n",
      "<class 'list'>\n"
     ]
    }
   ],
   "source": [
    "data = input()\n",
    "word = data.split()\n",
    "print(word)\n",
    "print(type(word))"
   ]
  },
  {
   "cell_type": "code",
   "execution_count": 32,
   "id": "068e361d",
   "metadata": {},
   "outputs": [
    {
     "name": "stdout",
     "output_type": "stream",
     "text": [
      "bunny,yadav\n",
      "['bunny', 'yadav']\n"
     ]
    }
   ],
   "source": [
    "data = input()\n",
    "word = data.split(',')\n",
    "print(word)"
   ]
  },
  {
   "cell_type": "code",
   "execution_count": null,
   "id": "95bae4df",
   "metadata": {},
   "outputs": [],
   "source": []
  },
  {
   "cell_type": "code",
   "execution_count": null,
   "id": "d4d2cf13",
   "metadata": {},
   "outputs": [],
   "source": []
  },
  {
   "cell_type": "code",
   "execution_count": null,
   "id": "f11a8001",
   "metadata": {},
   "outputs": [],
   "source": []
  },
  {
   "cell_type": "code",
   "execution_count": null,
   "id": "9603abac",
   "metadata": {},
   "outputs": [],
   "source": []
  },
  {
   "cell_type": "code",
   "execution_count": null,
   "id": "0737ff99",
   "metadata": {},
   "outputs": [],
   "source": []
  },
  {
   "cell_type": "code",
   "execution_count": null,
   "id": "de15e2fc",
   "metadata": {},
   "outputs": [],
   "source": []
  },
  {
   "cell_type": "code",
   "execution_count": null,
   "id": "75ef359b",
   "metadata": {},
   "outputs": [],
   "source": []
  },
  {
   "cell_type": "code",
   "execution_count": null,
   "id": "b0e7204d",
   "metadata": {},
   "outputs": [],
   "source": []
  },
  {
   "cell_type": "code",
   "execution_count": null,
   "id": "b1cbb1f3",
   "metadata": {},
   "outputs": [],
   "source": []
  },
  {
   "cell_type": "code",
   "execution_count": null,
   "id": "8c000ec5",
   "metadata": {},
   "outputs": [],
   "source": []
  },
  {
   "cell_type": "code",
   "execution_count": null,
   "id": "181b3d99",
   "metadata": {},
   "outputs": [],
   "source": []
  },
  {
   "cell_type": "code",
   "execution_count": null,
   "id": "ec4dbce7",
   "metadata": {},
   "outputs": [],
   "source": []
  },
  {
   "cell_type": "code",
   "execution_count": null,
   "id": "8696cd7c",
   "metadata": {},
   "outputs": [],
   "source": []
  },
  {
   "cell_type": "code",
   "execution_count": null,
   "id": "1c46503a",
   "metadata": {},
   "outputs": [],
   "source": []
  },
  {
   "cell_type": "code",
   "execution_count": null,
   "id": "519beba6",
   "metadata": {},
   "outputs": [],
   "source": []
  },
  {
   "cell_type": "code",
   "execution_count": null,
   "id": "96ed151c",
   "metadata": {},
   "outputs": [],
   "source": []
  },
  {
   "cell_type": "code",
   "execution_count": null,
   "id": "cb5e85ad",
   "metadata": {},
   "outputs": [],
   "source": []
  },
  {
   "cell_type": "code",
   "execution_count": null,
   "id": "42445110",
   "metadata": {},
   "outputs": [],
   "source": []
  },
  {
   "cell_type": "code",
   "execution_count": null,
   "id": "19954624",
   "metadata": {},
   "outputs": [],
   "source": []
  },
  {
   "cell_type": "code",
   "execution_count": null,
   "id": "492f3433",
   "metadata": {},
   "outputs": [],
   "source": []
  },
  {
   "cell_type": "code",
   "execution_count": null,
   "id": "07891f35",
   "metadata": {},
   "outputs": [],
   "source": []
  },
  {
   "cell_type": "code",
   "execution_count": null,
   "id": "2ae3a208",
   "metadata": {},
   "outputs": [],
   "source": []
  },
  {
   "cell_type": "code",
   "execution_count": null,
   "id": "11716cd0",
   "metadata": {},
   "outputs": [],
   "source": []
  },
  {
   "cell_type": "code",
   "execution_count": null,
   "id": "3e135ec7",
   "metadata": {},
   "outputs": [],
   "source": []
  },
  {
   "cell_type": "code",
   "execution_count": null,
   "id": "0d3d52b0",
   "metadata": {},
   "outputs": [],
   "source": []
  }
 ],
 "metadata": {
  "kernelspec": {
   "display_name": "Python 3 (ipykernel)",
   "language": "python",
   "name": "python3"
  },
  "language_info": {
   "codemirror_mode": {
    "name": "ipython",
    "version": 3
   },
   "file_extension": ".py",
   "mimetype": "text/x-python",
   "name": "python",
   "nbconvert_exporter": "python",
   "pygments_lexer": "ipython3",
   "version": "3.9.12"
  }
 },
 "nbformat": 4,
 "nbformat_minor": 5
}
