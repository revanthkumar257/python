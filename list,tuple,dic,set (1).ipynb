{
 "cells": [
  {
   "cell_type": "code",
   "execution_count": 1,
   "id": "2a1f31bc",
   "metadata": {},
   "outputs": [
    {
     "name": "stdout",
     "output_type": "stream",
     "text": [
      "Enter a list of integers separated by spaces: 2 23\n",
      "Doubled list: [4, 46]\n"
     ]
    }
   ],
   "source": [
    "#Write a Python program that takes a list of integers as input from the user and returns a list where each integer is doubled using the map() function. The program should first prompt the user to enter the integers separated by spaces, then process the input, and finally print the output list.\n",
    "\n",
    "\n",
    "def double_integers():\n",
    "    user_input = input(\"Enter a list of integers separated by spaces: \")\n",
    "    int_list = list(map(int, user_input.split()))\n",
    "    doubled_list = list(map(lambda x: x * 2, int_list))\n",
    "    print(\"Doubled list:\", doubled_list)\n",
    "\n",
    "double_integers()\n"
   ]
  },
  {
   "cell_type": "code",
   "execution_count": 2,
   "id": "f3d08c44",
   "metadata": {},
   "outputs": [
    {
     "name": "stdout",
     "output_type": "stream",
     "text": [
      "Enter the first list of numbers separated by spaces: 2 7 9\n",
      "Enter the second list of numbers separated by spaces: 3 5 9\n",
      "Multiplied list: [6, 35, 81]\n"
     ]
    }
   ],
   "source": [
    "#Write a Python program that takes two lists of equal length containing numbers from the user and returns a new list where each element is the product of the elements at the corresponding positions using the map() function. The program should prompt the user to enter the two lists of numbers separated by spaces.\n",
    "\n",
    "\n",
    "\n",
    "def multiply_lists():\n",
    "    user_input1 = input(\"Enter the first list of numbers separated by spaces: \")\n",
    "    user_input2 = input(\"Enter the second list of numbers separated by spaces: \")\n",
    "    list1 = list(map(int, user_input1.split()))\n",
    "    list2 = list(map(int, user_input2.split()))\n",
    "    multiplied_list = list(map(lambda x, y: x * y, list1, list2))\n",
    "    print(\"Multiplied list:\", multiplied_list)\n",
    "\n",
    "multiply_lists()\n"
   ]
  },
  {
   "cell_type": "code",
   "execution_count": 3,
   "id": "c6d689a9",
   "metadata": {},
   "outputs": [
    {
     "name": "stdout",
     "output_type": "stream",
     "text": [
      "Enter a list of integers separated by spaces: 3 0 1\n",
      "Filtered list (odd numbers): [3, 1]\n"
     ]
    }
   ],
   "source": [
    "#Write a Python program that takes a list of integers as input from the user and filters out all the even numbers using the filter() function. The program should prompt the user to enter the list of integers separated by spaces and then print the resulting list of odd numbers.\n",
    "\n",
    "\n",
    "def filter_even_numbers():\n",
    "    user_input = input(\"Enter a list of integers separated by spaces: \")\n",
    "    int_list = list(map(int, user_input.split()))\n",
    "    odd_list = list(filter(lambda x: x % 2 != 0, int_list))\n",
    "    print(\"Filtered list (odd numbers):\", odd_list)\n",
    "\n",
    "filter_even_numbers()\n"
   ]
  },
  {
   "cell_type": "code",
   "execution_count": 4,
   "id": "c119d8fd",
   "metadata": {},
   "outputs": [
    {
     "name": "stdout",
     "output_type": "stream",
     "text": [
      "Enter a list of strings separated by spaces: ttyy yyuu\n",
      "Filtered list (strings containing 'a'): []\n"
     ]
    }
   ],
   "source": [
    "#Write a Python program that takes a list of strings as input from the user and filters out all the strings that do not contain the letter 'a' using the filter() function. The program should prompt the user to enter the list of strings separated by spaces and then print the resulting list of strings containing 'a'.\n",
    "\n",
    "\n",
    "\n",
    "def filter_strings_with_a():\n",
    "    user_input = input(\"Enter a list of strings separated by spaces: \")\n",
    "    string_list = user_input.split()\n",
    "    filtered_list = list(filter(lambda s: 'a' in s, string_list))\n",
    "    print(\"Filtered list (strings containing 'a'):\", filtered_list)\n",
    "\n",
    "filter_strings_with_a()\n"
   ]
  },
  {
   "cell_type": "code",
   "execution_count": 5,
   "id": "e53e9e31",
   "metadata": {},
   "outputs": [
    {
     "name": "stdout",
     "output_type": "stream",
     "text": [
      "Enter a list of integers separated by spaces: 3 5 6\n",
      "Product of list: 90\n"
     ]
    }
   ],
   "source": [
    "#Write a Python program that takes a list of integers as input from the user and computes the product of all the integers using the reduce() function from the functools module. The program should prompt the user to enter the list of integers separated by spaces and then print the product.\n",
    "\n",
    "from functools import reduce\n",
    "\n",
    "def product_of_list():\n",
    "    user_input = input(\"Enter a list of integers separated by spaces: \")\n",
    "    int_list = list(map(int, user_input.split()))\n",
    "    product = reduce(lambda x, y: x * y, int_list)\n",
    "    print(\"Product of list:\", product)\n",
    "\n",
    "product_of_list()\n"
   ]
  },
  {
   "cell_type": "code",
   "execution_count": 6,
   "id": "2c1794a8",
   "metadata": {},
   "outputs": [
    {
     "name": "stdout",
     "output_type": "stream",
     "text": [
      "Enter a list of integers separated by spaces: 3 4 5\n",
      "Maximum value in list: 5\n"
     ]
    }
   ],
   "source": [
    "#Write a Python program that takes a list of integers as input from the user and finds the maximum number using the reduce() function from the functools module. The program should prompt the user to enter the list of integers separated by spaces and then print the maximum number.\n",
    "\n",
    "from functools import reduce\n",
    "\n",
    "def max_in_list():\n",
    "    user_input = input(\"Enter a list of integers separated by spaces: \")\n",
    "    int_list = list(map(int, user_input.split()))\n",
    "    max_value = reduce(lambda x, y: x if x > y else y, int_list)\n",
    "    print(\"Maximum value in list:\", max_value)\n",
    "\n",
    "max_in_list()\n"
   ]
  },
  {
   "cell_type": "code",
   "execution_count": 8,
   "id": "cd9409ac",
   "metadata": {},
   "outputs": [
    {
     "name": "stdout",
     "output_type": "stream",
     "text": [
      "Enter the first list of numbers separated by spaces: 2  3 4 \n",
      "Enter the second list of numbers separated by spaces: 4 5 6 \n",
      "Zipped list: [(2, 4), (3, 5), (4, 6)]\n"
     ]
    }
   ],
   "source": [
    "#Write a Python program that takes two lists of equal length containing numbers from the user and returns a list of tuples, where each tuple contains elements from the corresponding positions of the two lists using the zip() function. The program should prompt the user to enter the two lists of numbers separated by spaces.\n",
    "\n",
    "\n",
    "\n",
    "def zip_lists():\n",
    "    user_input1 = input(\"Enter the first list of numbers separated by spaces: \")\n",
    "    user_input2 = input(\"Enter the second list of numbers separated by spaces: \")\n",
    "    list1 = list(map(int, user_input1.split()))\n",
    "    list2 = list(map(int, user_input2.split()))\n",
    "    zipped_list = list(zip(list1, list2))\n",
    "    print(\"Zipped list:\", zipped_list)\n",
    "\n",
    "zip_lists()\n"
   ]
  },
  {
   "cell_type": "code",
   "execution_count": 7,
   "id": "50123fe7",
   "metadata": {},
   "outputs": [],
   "source": [
    "# Creating Dictionary from Lists with zip()Write a Python program that takes a list of names and a list of scores from the user and returns a dictionary where each name is a key and each score is the corresponding value using the zip() function. The program should prompt the user to enter the list of names and scores separated by spaces.\n",
    "\n",
    "\n",
    "def create_score_dict():\n",
    "    names = input(\"Enter the list of names separated by spaces: \")\n",
    "    scores = input(\"Enter the list of scores separated by spaces: \")\n",
    "    name_list = names.split()\n",
    "    score_list = list(map(int, scores.split()))\n",
    "   \n",
    "\n",
    "\n",
    "\n",
    "\n",
    "\n",
    "\n"
   ]
  },
  {
   "cell_type": "code",
   "execution_count": 10,
   "id": "bbc2691d",
   "metadata": {},
   "outputs": [
    {
     "name": "stdout",
     "output_type": "stream",
     "text": [
      "Enter the elements of the first set: 4 5 6\n",
      "Enter the elements of the second set: 7 8 9\n",
      "Is the first set a superset of the second set? False\n"
     ]
    }
   ],
   "source": [
    "##SuperSet\n",
    "\n",
    "def check_superset():\n",
    "    set1_input = input(\"Enter the elements of the first set: \")\n",
    "    set2_input = input(\"Enter the elements of the second set: \")\n",
    "    \n",
    "    set1 = set(set1_input.split())\n",
    "    set2 = set(set2_input.split())\n",
    "    \n",
    "    is_superset = set1.issuperset(set2)\n",
    "    \n",
    "    print(f\"Is the first set a superset of the second set? {is_superset}\")\n",
    "\n",
    "check_superset()\n"
   ]
  },
  {
   "cell_type": "code",
   "execution_count": 11,
   "id": "981ebb1d",
   "metadata": {},
   "outputs": [
    {
     "name": "stdout",
     "output_type": "stream",
     "text": [
      "Enter the elements of the first: 2 3 4\n",
      "Enter the elements of the second set: 1\n",
      "Are the two sets disjoint? True\n"
     ]
    }
   ],
   "source": [
    "#Disjoint\n",
    "\n",
    "def check_disjoint_sets():\n",
    "    set1_input = input(\"Enter the elements of the first: \")\n",
    "    set2_input = input(\"Enter the elements of the second set: \")\n",
    "    \n",
    "    set1 = set(set1_input.split())\n",
    "    set2 = set(set2_input.split())\n",
    "    \n",
    "    are_disjoint = set1.isdisjoint(set2)\n",
    "    \n",
    "    print(f\"Are the two sets disjoint? {are_disjoint}\")\n",
    "\n",
    "check_disjoint_sets()\n"
   ]
  },
  {
   "cell_type": "code",
   "execution_count": 12,
   "id": "9dbd6eb4",
   "metadata": {},
   "outputs": [
    {
     "name": "stdout",
     "output_type": "stream",
     "text": [
      "Enter the elements of the first set: 2 3 4\n",
      "Enter the elements of the second set: 2 3 4\n",
      "Cartesian Product:\n",
      "('3', '2')\n",
      "('3', '3')\n",
      "('2', '2')\n",
      "('4', '4')\n",
      "('2', '3')\n",
      "('3', '4')\n",
      "('4', '3')\n",
      "('2', '4')\n",
      "('4', '2')\n"
     ]
    }
   ],
   "source": [
    "import itertools\n",
    "\n",
    "def cartesian_product():\n",
    "    set1_input = input(\"Enter the elements of the first set: \")\n",
    "    set2_input = input(\"Enter the elements of the second set: \")\n",
    "    \n",
    "    set1 = set(set1_input.split())\n",
    "    set2 = set(set2_input.split())\n",
    "    \n",
    "    cartesian_prod = set(itertools.product(set1, set2))\n",
    "    \n",
    "    print(\"Cartesian Product:\")\n",
    "    for pair in cartesian_prod:\n",
    "        print(pair)\n",
    "\n",
    "cartesian_product()\n"
   ]
  },
  {
   "cell_type": "code",
   "execution_count": 13,
   "id": "fcabdefe",
   "metadata": {},
   "outputs": [
    {
     "name": "stdout",
     "output_type": "stream",
     "text": [
      "Enter the elements of the set: 2 3 4 \n",
      "Power Set:\n",
      "('3', '2')\n",
      "('4',)\n",
      "('3', '4')\n",
      "('2', '4')\n",
      "('3',)\n",
      "('3', '2', '4')\n",
      "('2',)\n",
      "()\n"
     ]
    }
   ],
   "source": [
    "import itertools\n",
    "\n",
    "def power_set():\n",
    "    set_input = input(\"Enter the elements of the set: \")\n",
    "    input_set = set(set_input.split())\n",
    "    \n",
    "    power_set = set(itertools.chain.from_iterable(itertools.combinations(input_set, r) for r in range(len(input_set) + 1)))\n",
    "    \n",
    "    print(\"Power Set:\")\n",
    "    for subset in power_set:\n",
    "        print(subset)\n",
    "\n",
    "power_set()\n"
   ]
  },
  {
   "cell_type": "code",
   "execution_count": 14,
   "id": "2836e7b2",
   "metadata": {},
   "outputs": [
    {
     "name": "stdout",
     "output_type": "stream",
     "text": [
      "Enter the elements of the first set : 3 4 5\n",
      "Enter the elements of the second set: 1 6 7 \n",
      "Union: frozenset({'3', '4', '6', '7', '1', '5'})\n",
      "Intersection: frozenset()\n",
      "Difference: frozenset({'3', '5', '4'})\n"
     ]
    }
   ],
   "source": [
    "def frozen_set_operations():\n",
    "    set1_input = input(\"Enter the elements of the first set : \")\n",
    "    set2_input = input(\"Enter the elements of the second set: \")\n",
    "    \n",
    "    set1 = set(set1_input.split())\n",
    "    set2 = set(set2_input.split())\n",
    "    \n",
    "    frozen_set1 = frozenset(set1)\n",
    "    frozen_set2 = frozenset(set2)\n",
    "    \n",
    "    union_result = frozen_set1.union(frozen_set2)\n",
    "    intersection_result = frozen_set1.intersection(frozen_set2)\n",
    "    difference_result = frozen_set1.difference(frozen_set2)\n",
    "    \n",
    "    print(\"Union:\", union_result)\n",
    "    print(\"Intersection:\", intersection_result)\n",
    "    print(\"Difference:\", difference_result)\n",
    "\n",
    "frozen_set_operations()\n"
   ]
  },
  {
   "cell_type": "code",
   "execution_count": 15,
   "id": "f9effd91",
   "metadata": {},
   "outputs": [
    {
     "name": "stdout",
     "output_type": "stream",
     "text": [
      "Enter the elements of the first set: 23 4 5\n",
      "Enter the elements of the second set: 24 6 67\n",
      "Union: {'23', '4', '6', '67', '24', '5'}\n",
      "Intersection: set()\n",
      "Difference: {'23', '5', '4'}\n",
      "Symmetric Difference: {'4', '6', '24', '23', '67', '5'}\n"
     ]
    }
   ],
   "source": [
    "def set_algebra_operations():\n",
    "    set1_input = input(\"Enter the elements of the first set: \")\n",
    "    set2_input = input(\"Enter the elements of the second set: \")\n",
    "    \n",
    "    set1 = set(set1_input.split())\n",
    "    set2 = set(set2_input.split())\n",
    "    \n",
    "    union_result = set1.union(set2)\n",
    "    intersection_result = set1.intersection(set2)\n",
    "    difference_result = set1.difference(set2)\n",
    "    symmetric_difference_result = set1.symmetric_difference(set2)\n",
    "    \n",
    "    print(\"Union:\", union_result)\n",
    "    print(\"Intersection:\", intersection_result)\n",
    "    print(\"Difference:\", difference_result)\n",
    "    print(\"Symmetric Difference:\", symmetric_difference_result)\n",
    "\n",
    "set_algebra_operations()\n"
   ]
  },
  {
   "cell_type": "code",
   "execution_count": null,
   "id": "c9584888",
   "metadata": {},
   "outputs": [],
   "source": []
  }
 ],
 "metadata": {
  "kernelspec": {
   "display_name": "Python 3 (ipykernel)",
   "language": "python",
   "name": "python3"
  },
  "language_info": {
   "codemirror_mode": {
    "name": "ipython",
    "version": 3
   },
   "file_extension": ".py",
   "mimetype": "text/x-python",
   "name": "python",
   "nbconvert_exporter": "python",
   "pygments_lexer": "ipython3",
   "version": "3.9.12"
  }
 },
 "nbformat": 4,
 "nbformat_minor": 5
}
