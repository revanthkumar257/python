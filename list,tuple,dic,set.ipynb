{
 "cells": [
  {
   "cell_type": "code",
   "execution_count": 1,
   "id": "0084d00f",
   "metadata": {},
   "outputs": [
    {
     "name": "stdout",
     "output_type": "stream",
     "text": [
      "Enter a list of integers separated by spaces: 2 23\n",
      "Doubled list: [4, 46]\n"
     ]
    }
   ],
   "source": [
    "#Write a Python program that takes a list of integers as input from the user and returns a list where each integer is doubled using the map() function. The program should first prompt the user to enter the integers separated by spaces, then process the input, and finally print the output list.\n",
    "\n",
    "\n",
    "def double_integers():\n",
    "    user_input = input(\"Enter a list of integers separated by spaces: \")\n",
    "    int_list = list(map(int, user_input.split()))\n",
    "    doubled_list = list(map(lambda x: x * 2, int_list))\n",
    "    print(\"Doubled list:\", doubled_list)\n",
    "\n",
    "double_integers()\n"
   ]
  },
  {
   "cell_type": "code",
   "execution_count": 2,
   "id": "2364f1be",
   "metadata": {},
   "outputs": [
    {
     "name": "stdout",
     "output_type": "stream",
     "text": [
      "Enter the first list of numbers separated by spaces: 2 7 9\n",
      "Enter the second list of numbers separated by spaces: 3 5 9\n",
      "Multiplied list: [6, 35, 81]\n"
     ]
    }
   ],
   "source": [
    "#Write a Python program that takes two lists of equal length containing numbers from the user and returns a new list where each element is the product of the elements at the corresponding positions using the map() function. The program should prompt the user to enter the two lists of numbers separated by spaces.\n",
    "\n",
    "\n",
    "\n",
    "def multiply_lists():\n",
    "    user_input1 = input(\"Enter the first list of numbers separated by spaces: \")\n",
    "    user_input2 = input(\"Enter the second list of numbers separated by spaces: \")\n",
    "    list1 = list(map(int, user_input1.split()))\n",
    "    list2 = list(map(int, user_input2.split()))\n",
    "    multiplied_list = list(map(lambda x, y: x * y, list1, list2))\n",
    "    print(\"Multiplied list:\", multiplied_list)\n",
    "\n",
    "multiply_lists()\n"
   ]
  },
  {
   "cell_type": "code",
   "execution_count": 3,
   "id": "b08fb524",
   "metadata": {},
   "outputs": [
    {
     "name": "stdout",
     "output_type": "stream",
     "text": [
      "Enter a list of integers separated by spaces: 3 0 1\n",
      "Filtered list (odd numbers): [3, 1]\n"
     ]
    }
   ],
   "source": [
    "#Write a Python program that takes a list of integers as input from the user and filters out all the even numbers using the filter() function. The program should prompt the user to enter the list of integers separated by spaces and then print the resulting list of odd numbers.\n",
    "\n",
    "\n",
    "def filter_even_numbers():\n",
    "    user_input = input(\"Enter a list of integers separated by spaces: \")\n",
    "    int_list = list(map(int, user_input.split()))\n",
    "    odd_list = list(filter(lambda x: x % 2 != 0, int_list))\n",
    "    print(\"Filtered list (odd numbers):\", odd_list)\n",
    "\n",
    "filter_even_numbers()\n"
   ]
  },
  {
   "cell_type": "code",
   "execution_count": 4,
   "id": "d2a244f3",
   "metadata": {},
   "outputs": [
    {
     "name": "stdout",
     "output_type": "stream",
     "text": [
      "Enter a list of strings separated by spaces: ttyy yyuu\n",
      "Filtered list (strings containing 'a'): []\n"
     ]
    }
   ],
   "source": [
    "#Write a Python program that takes a list of strings as input from the user and filters out all the strings that do not contain the letter 'a' using the filter() function. The program should prompt the user to enter the list of strings separated by spaces and then print the resulting list of strings containing 'a'.\n",
    "\n",
    "\n",
    "\n",
    "def filter_strings_with_a():\n",
    "    user_input = input(\"Enter a list of strings separated by spaces: \")\n",
    "    string_list = user_input.split()\n",
    "    filtered_list = list(filter(lambda s: 'a' in s, string_list))\n",
    "    print(\"Filtered list (strings containing 'a'):\", filtered_list)\n",
    "\n",
    "filter_strings_with_a()\n"
   ]
  },
  {
   "cell_type": "code",
   "execution_count": 5,
   "id": "9aefc6e4",
   "metadata": {},
   "outputs": [
    {
     "name": "stdout",
     "output_type": "stream",
     "text": [
      "Enter a list of integers separated by spaces: 3 5 6\n",
      "Product of list: 90\n"
     ]
    }
   ],
   "source": [
    "#Write a Python program that takes a list of integers as input from the user and computes the product of all the integers using the reduce() function from the functools module. The program should prompt the user to enter the list of integers separated by spaces and then print the product.\n",
    "\n",
    "from functools import reduce\n",
    "\n",
    "def product_of_list():\n",
    "    user_input = input(\"Enter a list of integers separated by spaces: \")\n",
    "    int_list = list(map(int, user_input.split()))\n",
    "    product = reduce(lambda x, y: x * y, int_list)\n",
    "    print(\"Product of list:\", product)\n",
    "\n",
    "product_of_list()\n"
   ]
  },
  {
   "cell_type": "code",
   "execution_count": 6,
   "id": "d0412341",
   "metadata": {},
   "outputs": [
    {
     "name": "stdout",
     "output_type": "stream",
     "text": [
      "Enter a list of integers separated by spaces: 3 4 5\n",
      "Maximum value in list: 5\n"
     ]
    }
   ],
   "source": [
    "#Write a Python program that takes a list of integers as input from the user and finds the maximum number using the reduce() function from the functools module. The program should prompt the user to enter the list of integers separated by spaces and then print the maximum number.\n",
    "\n",
    "from functools import reduce\n",
    "\n",
    "def max_in_list():\n",
    "    user_input = input(\"Enter a list of integers separated by spaces: \")\n",
    "    int_list = list(map(int, user_input.split()))\n",
    "    max_value = reduce(lambda x, y: x if x > y else y, int_list)\n",
    "    print(\"Maximum value in list:\", max_value)\n",
    "\n",
    "max_in_list()\n"
   ]
  },
  {
   "cell_type": "code",
   "execution_count": 8,
   "id": "84201f97",
   "metadata": {},
   "outputs": [
    {
     "name": "stdout",
     "output_type": "stream",
     "text": [
      "Enter the first list of numbers separated by spaces: 2  3 4 \n",
      "Enter the second list of numbers separated by spaces: 4 5 6 \n",
      "Zipped list: [(2, 4), (3, 5), (4, 6)]\n"
     ]
    }
   ],
   "source": [
    "#Write a Python program that takes two lists of equal length containing numbers from the user and returns a list of tuples, where each tuple contains elements from the corresponding positions of the two lists using the zip() function. The program should prompt the user to enter the two lists of numbers separated by spaces.\n",
    "\n",
    "\n",
    "\n",
    "def zip_lists():\n",
    "    user_input1 = input(\"Enter the first list of numbers separated by spaces: \")\n",
    "    user_input2 = input(\"Enter the second list of numbers separated by spaces: \")\n",
    "    list1 = list(map(int, user_input1.split()))\n",
    "    list2 = list(map(int, user_input2.split()))\n",
    "    zipped_list = list(zip(list1, list2))\n",
    "    print(\"Zipped list:\", zipped_list)\n",
    "\n",
    "zip_lists()\n"
   ]
  },
  {
   "cell_type": "code",
   "execution_count": 7,
   "id": "e74a9bb8",
   "metadata": {},
   "outputs": [],
   "source": [
    "# Creating Dictionary from Lists with zip()Write a Python program that takes a list of names and a list of scores from the user and returns a dictionary where each name is a key and each score is the corresponding value using the zip() function. The program should prompt the user to enter the list of names and scores separated by spaces.\n",
    "\n",
    "\n",
    "def create_score_dict():\n",
    "    names = input(\"Enter the list of names separated by spaces: \")\n",
    "    scores = input(\"Enter the list of scores separated by spaces: \")\n",
    "    name_list = names.split()\n",
    "    score_list = list(map(int, scores.split()))\n",
    "   \n",
    "\n",
    "\n",
    "\n",
    "\n",
    "\n",
    "\n"
   ]
  },
  {
   "cell_type": "code",
   "execution_count": null,
   "id": "83cb5041",
   "metadata": {},
   "outputs": [],
   "source": []
  }
 ],
 "metadata": {
  "kernelspec": {
   "display_name": "Python 3 (ipykernel)",
   "language": "python",
   "name": "python3"
  },
  "language_info": {
   "codemirror_mode": {
    "name": "ipython",
    "version": 3
   },
   "file_extension": ".py",
   "mimetype": "text/x-python",
   "name": "python",
   "nbconvert_exporter": "python",
   "pygments_lexer": "ipython3",
   "version": "3.9.12"
  }
 },
 "nbformat": 4,
 "nbformat_minor": 5
}
