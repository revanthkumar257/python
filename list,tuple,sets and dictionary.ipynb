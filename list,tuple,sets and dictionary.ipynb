{
 "cells": [
  {
   "cell_type": "code",
   "execution_count": 3,
   "id": "a54656d1",
   "metadata": {},
   "outputs": [
    {
     "name": "stdout",
     "output_type": "stream",
     "text": [
      "['apple', 'orange', 'banana', 'kiwi']\n"
     ]
    }
   ],
   "source": [
    "list1 = ['apple','orange','banana','kiwi']\n",
    "print(list1)"
   ]
  },
  {
   "cell_type": "code",
   "execution_count": 4,
   "id": "4637de17",
   "metadata": {},
   "outputs": [
    {
     "name": "stdout",
     "output_type": "stream",
     "text": [
      "['apple', [7, 4, 3], 'orange', 'banana']\n"
     ]
    }
   ],
   "source": [
    "list2=['apple',[7,4,3],'orange','banana']\n",
    "print(list2)"
   ]
  },
  {
   "cell_type": "code",
   "execution_count": 5,
   "id": "b809740c",
   "metadata": {},
   "outputs": [
    {
     "name": "stdout",
     "output_type": "stream",
     "text": [
      "3\n"
     ]
    }
   ],
   "source": [
    "print(list2[1][2])"
   ]
  },
  {
   "cell_type": "code",
   "execution_count": 10,
   "id": "fb6d1dab",
   "metadata": {},
   "outputs": [],
   "source": [
    "list1.append('guava')\n",
    "\n"
   ]
  },
  {
   "cell_type": "code",
   "execution_count": 15,
   "id": "cec9e8e2",
   "metadata": {},
   "outputs": [
    {
     "name": "stdout",
     "output_type": "stream",
     "text": [
      "['apple', 'orange', 'banana', 'kiwi', 'guava', 'watermelon', 'muskmelon', 'guava', 'watermelon', 'muskmelon']\n"
     ]
    }
   ],
   "source": [
    "print(list1)"
   ]
  },
  {
   "cell_type": "code",
   "execution_count": 17,
   "id": "5dd9650e",
   "metadata": {},
   "outputs": [
    {
     "name": "stdout",
     "output_type": "stream",
     "text": [
      "['apple', 'orange', 'banana', 'kiwi', 'guava', 'watermelon', 'muskmelon', 'guava', 'watermelon', 'muskmelon', 'watermelon', 'muskmelon', 'watermelon', 'muskmelon']\n"
     ]
    }
   ],
   "source": [
    "list1.extend(['watermelon','muskmelon'])\n",
    "print(list1)"
   ]
  },
  {
   "cell_type": "code",
   "execution_count": 13,
   "id": "ea04b0f0",
   "metadata": {},
   "outputs": [],
   "source": [
    "del (list1[5])"
   ]
  },
  {
   "cell_type": "code",
   "execution_count": 14,
   "id": "c673b2fa",
   "metadata": {},
   "outputs": [
    {
     "name": "stdout",
     "output_type": "stream",
     "text": [
      "['apple', 'orange', 'banana', 'kiwi', 'guava', 'watermelon', 'muskmelon', 'guava', 'watermelon', 'muskmelon']\n"
     ]
    }
   ],
   "source": [
    "print(list1)"
   ]
  },
  {
   "cell_type": "code",
   "execution_count": 18,
   "id": "1ee9b05f",
   "metadata": {},
   "outputs": [
    {
     "name": "stdout",
     "output_type": "stream",
     "text": [
      "orange\n",
      "['apple', 'banana', 'kiwi', 'guava', 'watermelon', 'muskmelon', 'guava', 'watermelon', 'muskmelon', 'watermelon', 'muskmelon', 'watermelon', 'muskmelon']\n"
     ]
    }
   ],
   "source": [
    "print(list1.pop(1))\n",
    "print(list1)"
   ]
  },
  {
   "cell_type": "code",
   "execution_count": 19,
   "id": "0f6ec800",
   "metadata": {},
   "outputs": [
    {
     "name": "stdout",
     "output_type": "stream",
     "text": [
      "4\n"
     ]
    }
   ],
   "source": [
    "print(list1.count('watermelon'))"
   ]
  },
  {
   "cell_type": "code",
   "execution_count": 20,
   "id": "f19d30c3",
   "metadata": {},
   "outputs": [
    {
     "name": "stdout",
     "output_type": "stream",
     "text": [
      "('apple', 'orange', 'banana', 'kiwi')\n"
     ]
    }
   ],
   "source": [
    "tup1 = ('apple','orange','banana','kiwi')\n",
    "print(tup1)"
   ]
  },
  {
   "cell_type": "code",
   "execution_count": 22,
   "id": "c143f310",
   "metadata": {},
   "outputs": [
    {
     "name": "stdout",
     "output_type": "stream",
     "text": [
      "<class 'tuple'>\n"
     ]
    }
   ],
   "source": [
    "tup2 = ('apple',)\n",
    "print(type(tup2))"
   ]
  },
  {
   "cell_type": "code",
   "execution_count": 23,
   "id": "93d30de3",
   "metadata": {},
   "outputs": [
    {
     "name": "stdout",
     "output_type": "stream",
     "text": [
      "('orange', 'banana')\n"
     ]
    }
   ],
   "source": [
    "print(tup1[1:3])"
   ]
  },
  {
   "cell_type": "code",
   "execution_count": 24,
   "id": "5bbb863a",
   "metadata": {},
   "outputs": [
    {
     "name": "stdout",
     "output_type": "stream",
     "text": [
      "(1, 2, 3, 4, 5, 6)\n"
     ]
    }
   ],
   "source": [
    "print((1,2,3)+(4,5,6))"
   ]
  },
  {
   "cell_type": "code",
   "execution_count": 25,
   "id": "40f60d8f",
   "metadata": {},
   "outputs": [
    {
     "name": "stdout",
     "output_type": "stream",
     "text": [
      "0\n"
     ]
    }
   ],
   "source": [
    "print(tup1.count('guava'))"
   ]
  },
  {
   "cell_type": "code",
   "execution_count": 26,
   "id": "584df552",
   "metadata": {},
   "outputs": [
    {
     "name": "stdout",
     "output_type": "stream",
     "text": [
      "('apple', 'orange', 'banana', 'kiwi', 'guava')\n"
     ]
    }
   ],
   "source": [
    "y=list(tup1)\n",
    "y.append('guava')\n",
    "tup1=tuple(y)\n",
    "print(tup1)"
   ]
  },
  {
   "cell_type": "code",
   "execution_count": 27,
   "id": "85a5c6f7",
   "metadata": {},
   "outputs": [
    {
     "name": "stdout",
     "output_type": "stream",
     "text": [
      "[1, 2, 3, 4, 7]\n"
     ]
    }
   ],
   "source": [
    "a=[1,2,3,4]\n",
    "a.insert(5,7)\n",
    "print(a)"
   ]
  },
  {
   "cell_type": "code",
   "execution_count": 28,
   "id": "bc59b690",
   "metadata": {},
   "outputs": [
    {
     "name": "stdout",
     "output_type": "stream",
     "text": [
      "[12, 13, 14, 15]\n",
      "[12, 13, 15]\n"
     ]
    }
   ],
   "source": [
    "a=[12,13,14,15]\n",
    "print(a)\n",
    "a.pop(2)\n",
    "print(a)"
   ]
  },
  {
   "cell_type": "code",
   "execution_count": 29,
   "id": "f52bbed6",
   "metadata": {},
   "outputs": [
    {
     "name": "stdout",
     "output_type": "stream",
     "text": [
      "[1, 2, 3, 4, 9, 8, 7]\n"
     ]
    }
   ],
   "source": [
    "a=[1,2,3,4]\n",
    "b=[9,8,7]\n",
    "a.extend(b)\n",
    "print(a)\n"
   ]
  },
  {
   "cell_type": "code",
   "execution_count": 30,
   "id": "f9e89b79",
   "metadata": {},
   "outputs": [
    {
     "name": "stdout",
     "output_type": "stream",
     "text": [
      "<zip object at 0x00000164070F3800>\n",
      "(1, 'sikindar', 67)\n",
      "(2, 'prasanna', 56)\n",
      "(3, 'shivkumar', 76)\n"
     ]
    }
   ],
   "source": [
    "rollno=[1,2,3]\n",
    "names=['sikindar','prasanna','shivkumar']\n",
    "marks=[67,56,76]\n",
    "\n",
    "studentdetails=zip(rollno,names,marks)\n",
    "print(studentdetails)\n",
    "\n",
    "for record in studentdetails:\n",
    "    print(record)"
   ]
  },
  {
   "cell_type": "code",
   "execution_count": 32,
   "id": "610b36b2",
   "metadata": {},
   "outputs": [
    {
     "name": "stdout",
     "output_type": "stream",
     "text": [
      "set()\n",
      "{2}\n",
      "{2, 3}\n",
      "{2, 3, 4, 5, 9}\n",
      "{3, 'india', 5, 9, 'bharat'}\n",
      "{3, 'india', 5, 9, 'bharat'}\n"
     ]
    }
   ],
   "source": [
    "myset=set()\n",
    "print(myset)\n",
    "set()\n",
    "myset.add\n",
    "myset.add(2)\n",
    "print(myset)\n",
    "myset.add(3)\n",
    "print(myset)\n",
    "myset.update((4,5,9))\n",
    "print(myset)\n",
    "myset={3,5,9,12,'india','bharat'}\n",
    "myset.discard(12)\n",
    "print(myset)\n",
    "myset={3,5,9,12,'india','bharat'}\n",
    "myset.remove(12)\n",
    "print(myset)"
   ]
  },
  {
   "cell_type": "code",
   "execution_count": 33,
   "id": "20d8ac2f",
   "metadata": {},
   "outputs": [
    {
     "name": "stdout",
     "output_type": "stream",
     "text": [
      "{1, 2, 3, 4, 5, 6}\n",
      "{3, 4}\n",
      "{1, 2}\n",
      "{1, 2, 5, 6}\n"
     ]
    }
   ],
   "source": [
    "seta={1,2,3,4}\n",
    "setb={3,4,5,6}\n",
    "print(seta|setb)\n",
    "print(seta&setb)\n",
    "print(seta-setb)\n",
    "print(seta^setb)"
   ]
  },
  {
   "cell_type": "code",
   "execution_count": 34,
   "id": "4646802a",
   "metadata": {},
   "outputs": [
    {
     "name": "stdout",
     "output_type": "stream",
     "text": [
      "{'lohit', 'revanth', 'bunny', 'danish'}\n"
     ]
    }
   ],
   "source": [
    "studentlist={'danish','revanth','bunny','lohit','sai','ram'}\n",
    "placed={'sai','ram'}\n",
    "notplaced=set(studentlist)-set(placed)\n",
    "print(notplaced)"
   ]
  },
  {
   "cell_type": "code",
   "execution_count": 35,
   "id": "f8452512",
   "metadata": {},
   "outputs": [
    {
     "name": "stdout",
     "output_type": "stream",
     "text": [
      "{'name': 'abc', 'roll no': 1}\n",
      "{'maths': 34, 'science': 22, 'english': 56}\n",
      "{'name': 'tina', 1: [2, 4, 1, 7]}\n",
      "{1: 'apple', 2: 'android', 3: 'tablet'}\n",
      "{1: 'audi', 2: 'bmw'}\n",
      "{1: 'jain', 2: 'university'}\n"
     ]
    }
   ],
   "source": [
    "student={\"name\":\"abc\",\"roll no\":1}\n",
    "print(student)\n",
    "marks={\"maths\":34,\"science\":22,\"english\":56}\n",
    "print(marks)\n",
    "xyz={\"name\":\"tina\",1:[2,4,1,7]}\n",
    "print(xyz)\n",
    "Dict=dict({1:'apple',2:'android',3:'tablet'})\n",
    "print(Dict)\n",
    "Dict=dict([(1,'audi'),(2,'bmw')])\n",
    "print(Dict)\n",
    "DT={1:'jain',2:'university'}\n",
    "print(DT)"
   ]
  },
  {
   "cell_type": "code",
   "execution_count": 36,
   "id": "3efc15a0",
   "metadata": {},
   "outputs": [
    {
     "name": "stdout",
     "output_type": "stream",
     "text": [
      "{1: 'beetle', 2: 'car', 3: 'charger', 4: 'challenge'}\n",
      "{}\n",
      "beetle\n",
      "dict_items([(1, 'beetle'), (2, 'car'), (3, 'charger'), (4, 'challenge')])\n",
      "dict_keys([1, 2, 3, 4])\n",
      "dict_values(['beetle', 'car', 'charger', 'challenge'])\n",
      "car\n",
      "{1: 'beetle', 3: 'challenge', 4: 'challenge'}\n"
     ]
    }
   ],
   "source": [
    "d1={1:\"beetle\",2:\"car\",3:\"charger\",4:\"challenge\"}\n",
    "d2=d1.copy()\n",
    "print(d2)\n",
    "d2.clear()\n",
    "print(d2)\n",
    "print(d1.get(1))\n",
    "print(d1.items())\n",
    "print(d1.keys())\n",
    "print(d1.values())\n",
    "print(d1.pop(2))\n",
    "d1.update({3:\"challenge\"})\n",
    "print(d1)\n"
   ]
  },
  {
   "cell_type": "code",
   "execution_count": null,
   "id": "dce79e99",
   "metadata": {},
   "outputs": [],
   "source": []
  }
 ],
 "metadata": {
  "kernelspec": {
   "display_name": "Python 3 (ipykernel)",
   "language": "python",
   "name": "python3"
  },
  "language_info": {
   "codemirror_mode": {
    "name": "ipython",
    "version": 3
   },
   "file_extension": ".py",
   "mimetype": "text/x-python",
   "name": "python",
   "nbconvert_exporter": "python",
   "pygments_lexer": "ipython3",
   "version": "3.9.12"
  }
 },
 "nbformat": 4,
 "nbformat_minor": 5
}
